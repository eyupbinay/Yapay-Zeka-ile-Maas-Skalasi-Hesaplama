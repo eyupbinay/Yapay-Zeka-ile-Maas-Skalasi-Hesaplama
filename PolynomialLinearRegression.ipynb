{
 "cells": [
  {
   "cell_type": "code",
   "execution_count": null,
   "id": "211abf15",
   "metadata": {},
   "outputs": [],
   "source": [
    "import pandas as pd\n",
    "import matplotlib.pyplot as plt\n",
    "from sklearn.linear_model import LinearRegression\n",
    "from sklearn.preprocessing import PolynomialFeatures\n",
    "\n",
    "df = pd.read_csv(\"polynomial.csv\",sep = \";\")"
   ]
  },
  {
   "cell_type": "code",
   "execution_count": null,
   "id": "fab371e1",
   "metadata": {},
   "outputs": [],
   "source": [
    "\n",
    "polynomial_regression = PolynomialFeatures(degree = 4)\n",
    "\n",
    "x_polynomial = polynomial_regression.fit_transform(df[['deneyim']])\n",
    "\n"
   ]
  },
  {
   "cell_type": "code",
   "execution_count": null,
   "id": "67daac47",
   "metadata": {},
   "outputs": [],
   "source": [
    "\n",
    "reg = LinearRegression()\n",
    "reg.fit(x_polynomial,df['maas'])\n",
    "\n"
   ]
  },
  {
   "cell_type": "code",
   "execution_count": null,
   "id": "6249d0c0",
   "metadata": {},
   "outputs": [],
   "source": [
    "y_head = reg.predict(x_polynomial)\n",
    "plt.plot(df['deneyim'],y_head,color= \"red\",label = \"polynomial regression\")\n",
    "plt.legend()\n",
    "\n",
    "plt.scatter(df['deneyim'],df['maas'])   \n",
    "plt.show()"
   ]
  },
  {
   "cell_type": "code",
   "execution_count": null,
   "id": "b9ec9e58",
   "metadata": {},
   "outputs": [],
   "source": [
    "x_polynomial1 = polynomial_regression.fit_transform([[4.5]])\n",
    "reg.predict(x_polynomial1)"
   ]
  }
 ],
 "metadata": {
  "kernelspec": {
   "display_name": "Python 3 (ipykernel)",
   "language": "python",
   "name": "python3"
  },
  "language_info": {
   "codemirror_mode": {
    "name": "ipython",
    "version": 3
   },
   "file_extension": ".py",
   "mimetype": "text/x-python",
   "name": "python",
   "nbconvert_exporter": "python",
   "pygments_lexer": "ipython3",
   "version": "3.7.13"
  }
 },
 "nbformat": 4,
 "nbformat_minor": 5
}
